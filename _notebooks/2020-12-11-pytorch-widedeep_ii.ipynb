{
 "cells": [
  {
   "cell_type": "markdown",
   "metadata": {},
   "source": [
    "# \"pytorch-widedeep, deep learning for tabular data II: advanced use\"\n",
    "> a flexible package to combine tabular data with text and images using wide and deep models.\n",
    "\n",
    "- author: Javier Rodriguez\n",
    "- toc: true \n",
    "- badges: true\n",
    "- comments: true\n",
    "\n",
    "This is the second of the two posts introducing `pytorch-widedeep`, a flexible package to combine tabular data with text and images. \n",
    "\n",
    "In the first post I described `pytorch-widedeep`'s data preprocessing utilities, the main components of a `WideDeep` model and a quick example to illustrate the basic use of the library. In this post I will use a series of example to dig deeper into the many options `pytorch-widedeep` offers as we build wide and deep models."
   ]
  },
  {
   "cell_type": "markdown",
   "metadata": {},
   "source": [
    "## 1. Binary classification with varying parameters\n",
    "\n",
    "Let's start by using again the [adult census](http://archive.ics.uci.edu/ml/datasets/Adult) dataset. \n",
    "\n",
    "Before moving any further, let me emphasize that, as we go through the examples, one should not pay excessive (or any) attention to the loss or the metrics in the sense that the input parameters are not selected to obtain \"state of the art\", but to illustrate usability. \n",
    "\n",
    "A proper benchmarking exercise will be carried out in a future post. Having said that, and without further ado, let's start."
   ]
  },
  {
   "cell_type": "code",
   "execution_count": 1,
   "metadata": {},
   "outputs": [],
   "source": [
    "#collapse-hide\n",
    "import pandas as pd\n",
    "import numpy as np\n",
    "\n",
    "adult = pd.read_csv(\"data/adult/adult.csv.zip\")\n",
    "adult.columns = [c.replace(\"-\", \"_\") for c in adult.columns]\n",
    "adult[\"income_label\"] = (adult[\"income\"].apply(lambda x: \">50K\" in x)).astype(int)\n",
    "adult.drop(\"income\", axis=1, inplace=True)\n",
    "\n",
    "for c in adult.columns:\n",
    "    if adult[c].dtype == 'O':\n",
    "        adult[c] = adult[c].apply(lambda x: \"unknown\" if x == \"?\" else x)\n",
    "        adult[c] = adult[c].str.lower()"
   ]
  },
  {
   "cell_type": "code",
   "execution_count": 2,
   "metadata": {},
   "outputs": [
    {
     "data": {
      "text/html": [
       "<div>\n",
       "<style scoped>\n",
       "    .dataframe tbody tr th:only-of-type {\n",
       "        vertical-align: middle;\n",
       "    }\n",
       "\n",
       "    .dataframe tbody tr th {\n",
       "        vertical-align: top;\n",
       "    }\n",
       "\n",
       "    .dataframe thead th {\n",
       "        text-align: right;\n",
       "    }\n",
       "</style>\n",
       "<table border=\"1\" class=\"dataframe\">\n",
       "  <thead>\n",
       "    <tr style=\"text-align: right;\">\n",
       "      <th></th>\n",
       "      <th>age</th>\n",
       "      <th>workclass</th>\n",
       "      <th>fnlwgt</th>\n",
       "      <th>education</th>\n",
       "      <th>educational_num</th>\n",
       "      <th>marital_status</th>\n",
       "      <th>occupation</th>\n",
       "      <th>relationship</th>\n",
       "      <th>race</th>\n",
       "      <th>gender</th>\n",
       "      <th>capital_gain</th>\n",
       "      <th>capital_loss</th>\n",
       "      <th>hours_per_week</th>\n",
       "      <th>native_country</th>\n",
       "      <th>income_label</th>\n",
       "    </tr>\n",
       "  </thead>\n",
       "  <tbody>\n",
       "    <tr>\n",
       "      <th>0</th>\n",
       "      <td>25</td>\n",
       "      <td>private</td>\n",
       "      <td>226802</td>\n",
       "      <td>11th</td>\n",
       "      <td>7</td>\n",
       "      <td>never-married</td>\n",
       "      <td>machine-op-inspct</td>\n",
       "      <td>own-child</td>\n",
       "      <td>black</td>\n",
       "      <td>male</td>\n",
       "      <td>0</td>\n",
       "      <td>0</td>\n",
       "      <td>40</td>\n",
       "      <td>united-states</td>\n",
       "      <td>0</td>\n",
       "    </tr>\n",
       "    <tr>\n",
       "      <th>1</th>\n",
       "      <td>38</td>\n",
       "      <td>private</td>\n",
       "      <td>89814</td>\n",
       "      <td>hs-grad</td>\n",
       "      <td>9</td>\n",
       "      <td>married-civ-spouse</td>\n",
       "      <td>farming-fishing</td>\n",
       "      <td>husband</td>\n",
       "      <td>white</td>\n",
       "      <td>male</td>\n",
       "      <td>0</td>\n",
       "      <td>0</td>\n",
       "      <td>50</td>\n",
       "      <td>united-states</td>\n",
       "      <td>0</td>\n",
       "    </tr>\n",
       "    <tr>\n",
       "      <th>2</th>\n",
       "      <td>28</td>\n",
       "      <td>local-gov</td>\n",
       "      <td>336951</td>\n",
       "      <td>assoc-acdm</td>\n",
       "      <td>12</td>\n",
       "      <td>married-civ-spouse</td>\n",
       "      <td>protective-serv</td>\n",
       "      <td>husband</td>\n",
       "      <td>white</td>\n",
       "      <td>male</td>\n",
       "      <td>0</td>\n",
       "      <td>0</td>\n",
       "      <td>40</td>\n",
       "      <td>united-states</td>\n",
       "      <td>1</td>\n",
       "    </tr>\n",
       "    <tr>\n",
       "      <th>3</th>\n",
       "      <td>44</td>\n",
       "      <td>private</td>\n",
       "      <td>160323</td>\n",
       "      <td>some-college</td>\n",
       "      <td>10</td>\n",
       "      <td>married-civ-spouse</td>\n",
       "      <td>machine-op-inspct</td>\n",
       "      <td>husband</td>\n",
       "      <td>black</td>\n",
       "      <td>male</td>\n",
       "      <td>7688</td>\n",
       "      <td>0</td>\n",
       "      <td>40</td>\n",
       "      <td>united-states</td>\n",
       "      <td>1</td>\n",
       "    </tr>\n",
       "    <tr>\n",
       "      <th>4</th>\n",
       "      <td>18</td>\n",
       "      <td>unknown</td>\n",
       "      <td>103497</td>\n",
       "      <td>some-college</td>\n",
       "      <td>10</td>\n",
       "      <td>never-married</td>\n",
       "      <td>unknown</td>\n",
       "      <td>own-child</td>\n",
       "      <td>white</td>\n",
       "      <td>female</td>\n",
       "      <td>0</td>\n",
       "      <td>0</td>\n",
       "      <td>30</td>\n",
       "      <td>united-states</td>\n",
       "      <td>0</td>\n",
       "    </tr>\n",
       "  </tbody>\n",
       "</table>\n",
       "</div>"
      ],
      "text/plain": [
       "   age  workclass  fnlwgt     education  educational_num      marital_status  \\\n",
       "0   25    private  226802          11th                7       never-married   \n",
       "1   38    private   89814       hs-grad                9  married-civ-spouse   \n",
       "2   28  local-gov  336951    assoc-acdm               12  married-civ-spouse   \n",
       "3   44    private  160323  some-college               10  married-civ-spouse   \n",
       "4   18    unknown  103497  some-college               10       never-married   \n",
       "\n",
       "          occupation relationship   race  gender  capital_gain  capital_loss  \\\n",
       "0  machine-op-inspct    own-child  black    male             0             0   \n",
       "1    farming-fishing      husband  white    male             0             0   \n",
       "2    protective-serv      husband  white    male             0             0   \n",
       "3  machine-op-inspct      husband  black    male          7688             0   \n",
       "4            unknown    own-child  white  female             0             0   \n",
       "\n",
       "   hours_per_week native_country  income_label  \n",
       "0              40  united-states             0  \n",
       "1              50  united-states             0  \n",
       "2              40  united-states             1  \n",
       "3              40  united-states             1  \n",
       "4              30  united-states             0  "
      ]
     },
     "execution_count": 2,
     "metadata": {},
     "output_type": "execute_result"
    }
   ],
   "source": [
    "adult.head()"
   ]
  },
  {
   "cell_type": "markdown",
   "metadata": {},
   "source": [
    "if you read the first post you will be familiar with the code below:"
   ]
  },
  {
   "cell_type": "code",
   "execution_count": 3,
   "metadata": {},
   "outputs": [],
   "source": [
    "import torch\n",
    "\n",
    "from pytorch_widedeep.preprocessing import WidePreprocessor, DensePreprocessor\n",
    "from pytorch_widedeep.initializers import KaimingNormal, XavierNormal\n",
    "from pytorch_widedeep.callbacks import ModelCheckpoint, LRHistory, EarlyStopping\n",
    "from pytorch_widedeep.metrics import Accuracy, Recall\n",
    "from pytorch_widedeep.optim import RAdam\n",
    "from pytorch_widedeep.models import Wide, DeepDense, WideDeep\n",
    "\n",
    "wide_cols = ['education', 'relationship','workclass','occupation','native_country','gender']\n",
    "crossed_cols = [('education', 'occupation'), ('native_country', 'occupation')]\n",
    "cat_embed_cols = [('education',16), ('relationship',8), ('workclass',16), ('occupation',16),('native_country',16)]\n",
    "continuous_cols = [\"age\",\"hours_per_week\"]\n",
    "target_col = 'income_label'\n",
    "\n",
    "# TARGET\n",
    "target = adult[target_col].values\n",
    "\n",
    "# WIDE\n",
    "preprocess_wide = WidePreprocessor(wide_cols=wide_cols, crossed_cols=crossed_cols)\n",
    "X_wide = preprocess_wide.fit_transform(adult)\n",
    "\n",
    "# DEEP\n",
    "preprocess_deep = DensePreprocessor(embed_cols=cat_embed_cols, continuous_cols=continuous_cols)\n",
    "X_deep = preprocess_deep.fit_transform(adult)"
   ]
  },
  {
   "cell_type": "code",
   "execution_count": 4,
   "metadata": {},
   "outputs": [],
   "source": [
    "wide = Wide(wide_dim=np.unique(X_wide).shape[0], pred_dim=1)\n",
    "\n",
    "# We can add dropout and batchnorm to the dense layers\n",
    "deepdense = DeepDense(hidden_layers=[64,32], dropout=[0.5, 0.5], batchnorm=True,\n",
    "                      deep_column_idx=preprocess_deep.deep_column_idx,\n",
    "                      embed_input=preprocess_deep.embeddings_input,\n",
    "                      continuous_cols=continuous_cols)\n",
    "\n",
    "model = WideDeep(wide=wide, deepdense=deepdense)"
   ]
  },
  {
   "cell_type": "markdown",
   "metadata": {},
   "source": [
    "Let's have a look to the model that we will be running:"
   ]
  },
  {
   "cell_type": "code",
   "execution_count": 5,
   "metadata": {},
   "outputs": [
    {
     "data": {
      "text/plain": [
       "WideDeep(\n",
       "  (wide): Wide(\n",
       "    (wide_linear): Embedding(797, 1, padding_idx=0)\n",
       "  )\n",
       "  (deepdense): Sequential(\n",
       "    (0): DeepDense(\n",
       "      (embed_layers): ModuleDict(\n",
       "        (emb_layer_education): Embedding(17, 16)\n",
       "        (emb_layer_native_country): Embedding(43, 16)\n",
       "        (emb_layer_occupation): Embedding(16, 16)\n",
       "        (emb_layer_relationship): Embedding(7, 8)\n",
       "        (emb_layer_workclass): Embedding(10, 16)\n",
       "      )\n",
       "      (embed_dropout): Dropout(p=0.0, inplace=False)\n",
       "      (dense): Sequential(\n",
       "        (dense_layer_0): Sequential(\n",
       "          (0): Linear(in_features=74, out_features=64, bias=True)\n",
       "          (1): LeakyReLU(negative_slope=0.01, inplace=True)\n",
       "          (2): BatchNorm1d(64, eps=1e-05, momentum=0.1, affine=True, track_running_stats=True)\n",
       "          (3): Dropout(p=0.5, inplace=False)\n",
       "        )\n",
       "        (dense_layer_1): Sequential(\n",
       "          (0): Linear(in_features=64, out_features=32, bias=True)\n",
       "          (1): LeakyReLU(negative_slope=0.01, inplace=True)\n",
       "          (2): BatchNorm1d(32, eps=1e-05, momentum=0.1, affine=True, track_running_stats=True)\n",
       "          (3): Dropout(p=0.5, inplace=False)\n",
       "        )\n",
       "      )\n",
       "    )\n",
       "    (1): Linear(in_features=32, out_features=1, bias=True)\n",
       "  )\n",
       ")"
      ]
     },
     "execution_count": 5,
     "metadata": {},
     "output_type": "execute_result"
    }
   ],
   "source": [
    "model"
   ]
  },
  {
   "cell_type": "markdown",
   "metadata": {},
   "source": [
    "Now we will define the set up for each model component, including optimizers, learning rate schedulers and initializers:"
   ]
  },
  {
   "cell_type": "code",
   "execution_count": 6,
   "metadata": {},
   "outputs": [],
   "source": [
    "# Optimizers\n",
    "wide_opt = torch.optim.Adam(model.wide.parameters(), lr=0.03)\n",
    "deep_opt = RAdam(model.deepdense.parameters(), lr=0.1)\n",
    "\n",
    "# LR Schedulers\n",
    "wide_sch = torch.optim.lr_scheduler.StepLR(wide_opt, step_size=3)\n",
    "deep_sch = torch.optim.lr_scheduler.StepLR(deep_opt, step_size=5)\n",
    "\n",
    "# Component-dependent settings as Dict\n",
    "optimizers = {'wide': wide_opt, 'deepdense':deep_opt}\n",
    "schedulers = {'wide': wide_sch, 'deepdense':deep_sch}\n",
    "initializers = {'wide': KaimingNormal, 'deepdense':XavierNormal}\n",
    "\n",
    "# General settings as List\n",
    "callbacks = [LRHistory(n_epochs=10), EarlyStopping, ModelCheckpoint(filepath='model_weights/wd_out')]\n",
    "metrics = [Accuracy, Recall]"
   ]
  },
  {
   "cell_type": "markdown",
   "metadata": {},
   "source": [
    "Compile and fit!"
   ]
  },
  {
   "cell_type": "code",
   "execution_count": 7,
   "metadata": {},
   "outputs": [],
   "source": [
    "model.compile(method='binary', optimizers=optimizers, lr_schedulers=schedulers, \n",
    "              initializers=initializers,\n",
    "              callbacks=callbacks,\n",
    "              metrics=metrics, \n",
    "              verbose=False)"
   ]
  },
  {
   "cell_type": "code",
   "execution_count": 8,
   "metadata": {},
   "outputs": [],
   "source": [
    "model.fit(X_wide=X_wide, X_deep=X_deep, target=target, n_epochs=10, batch_size=256, val_split=0.2)"
   ]
  },
  {
   "cell_type": "code",
   "execution_count": 9,
   "metadata": {},
   "outputs": [],
   "source": [
    "#collapse-hide\n",
    "import matplotlib.pyplot as plt\n",
    "%matplotlib inline\n",
    "\n",
    "import seaborn as sns\n",
    "sns.set()"
   ]
  },
  {
   "cell_type": "code",
   "execution_count": 10,
   "metadata": {},
   "outputs": [
    {
     "data": {
      "text/plain": [
       "Text(0, 0.5, 'learning rate')"
      ]
     },
     "execution_count": 10,
     "metadata": {},
     "output_type": "execute_result"
    },
    {
     "data": {
      "image/png": "[encoded data removed]",
      "text/plain": [
       "<Figure size 1080x576 with 3 Axes>"
      ]
     },
     "metadata": {},
     "output_type": "display_data"
    }
   ],
   "source": [
    "#collapse-hide\n",
    "plt.figure(figsize=(15,8))\n",
    "plt.subplot(2,2,1)\n",
    "plt.plot(model.history._history['train_loss'], label=\"train\")\n",
    "plt.plot(model.history._history['val_loss'], label=\"val\")\n",
    "plt.legend(fontsize=13)\n",
    "plt.xlabel(\"n epochs\", fontsize=13)\n",
    "plt.ylabel(\"Loss\", fontsize=13)\n",
    "\n",
    "\n",
    "plt.subplot(2,2,2)\n",
    "plt.plot(model.history._history['train_acc'], label=\"train\")\n",
    "plt.plot(model.history._history['val_acc'], label=\"val\")\n",
    "plt.legend(fontsize=13)\n",
    "plt.xlabel(\"n epochs\", fontsize=13)\n",
    "plt.ylabel(\"Accuracy\", fontsize=13)\n",
    "\n",
    "plt.subplot(2,2,3)\n",
    "plt.plot(model.lr_history['lr_wide_0'], label=\"wide\")\n",
    "plt.plot(model.lr_history['lr_deepdense_0'], label=\"deepdense\")\n",
    "plt.legend(fontsize=13)\n",
    "plt.xlabel(\"n epochs\", fontsize=13)\n",
    "plt.ylabel(\"learning rate\", fontsize=13)"
   ]
  },
  {
   "cell_type": "markdown",
   "metadata": {},
   "source": [
    "As we can see from the plots, the learning rate effectively decreases by a factor of 0.1 (the default) after the corresponding `step_size` for each component. Note that the keys in the `model.lr_history` dictionary have a suffix `_0`. This is because if you pass different parameter groups to the torch optimizers, these will also be recorded. We'll see this in the regression example, in the next section.\n",
    "\n",
    "Before I move to the next section let me just mention that the `WideDeep` class comes with a useful method to \"rescue\" the learned embeddings, very creatively called `get_embeddings`. For example, let's say I want to use the embeddings learned for the different levels of the categorical feature `education`. These can be access via:"
   ]
  },
  {
   "cell_type": "code",
   "execution_count": 11,
   "metadata": {},
   "outputs": [
    {
     "data": {
      "text/plain": [
       "array([ 0.23485082,  0.41219023,  0.12688892,  0.08351105, -0.29780635,\n",
       "       -0.5321735 , -0.24137467, -0.49889308,  0.37074092, -0.11963069,\n",
       "        0.7072009 ,  0.5613647 , -0.0930844 , -0.5126964 , -0.05072869,\n",
       "       -0.40419328], dtype=float32)"
      ]
     },
     "execution_count": 11,
     "metadata": {},
     "output_type": "execute_result"
    }
   ],
   "source": [
    "education_embed = model.get_embeddings(\n",
    "    col_name='education', \n",
    "    cat_encoding_dict=preprocess_deep.label_encoder.encoding_dict\n",
    ")\n",
    "education_embed['doctorate']"
   ]
  },
  {
   "cell_type": "markdown",
   "metadata": {},
   "source": [
    "## 2. Regression combining tabular, text and images\n",
    "\n",
    "For this example we will use a small sample (so you can run it locally in a laptop) of the [Airbnb listings dataset](http://insideairbnb.com/get-the-data.html) in London. \n",
    "\n",
    "In case you are interested in all details, I did prepared the original dataset for this post, and all the code can be found at the `airbnb_data_preprocessing.py`, [here](`https://github.com/jrzaurin/pytorch-widedeep/blob/master/examples/airbnb_data_preprocessing.py`). After such preprocessing the data looks like this: "
   ]
  },
  {
   "cell_type": "code",
   "execution_count": 12,
   "metadata": {},
   "outputs": [],
   "source": [
    "#collapse-hide\n",
    "airbnb = pd.read_csv('data/airbnb/airbnb_sample.csv')"
   ]
  },
  {
   "cell_type": "code",
   "execution_count": 13,
   "metadata": {},
   "outputs": [
    {
     "data": {
      "text/html": [
       "<div>\n",
       "<style scoped>\n",
       "    .dataframe tbody tr th:only-of-type {\n",
       "        vertical-align: middle;\n",
       "    }\n",
       "\n",
       "    .dataframe tbody tr th {\n",
       "        vertical-align: top;\n",
       "    }\n",
       "\n",
       "    .dataframe thead th {\n",
       "        text-align: right;\n",
       "    }\n",
       "</style>\n",
       "<table border=\"1\" class=\"dataframe\">\n",
       "  <thead>\n",
       "    <tr style=\"text-align: right;\">\n",
       "      <th></th>\n",
       "      <th>id</th>\n",
       "      <th>host_id</th>\n",
       "      <th>description</th>\n",
       "      <th>host_listings_count</th>\n",
       "      <th>host_identity_verified</th>\n",
       "      <th>neighbourhood_cleansed</th>\n",
       "      <th>latitude</th>\n",
       "      <th>longitude</th>\n",
       "      <th>is_location_exact</th>\n",
       "      <th>property_type</th>\n",
       "      <th>room_type</th>\n",
       "      <th>accommodates</th>\n",
       "      <th>bathrooms</th>\n",
       "      <th>bedrooms</th>\n",
       "      <th>beds</th>\n",
       "      <th>guests_included</th>\n",
       "      <th>minimum_nights</th>\n",
       "      <th>instant_bookable</th>\n",
       "      <th>cancellation_policy</th>\n",
       "      <th>has_house_rules</th>\n",
       "      <th>host_gender</th>\n",
       "      <th>accommodates_catg</th>\n",
       "      <th>guests_included_catg</th>\n",
       "      <th>minimum_nights_catg</th>\n",
       "      <th>host_listings_count_catg</th>\n",
       "      <th>bathrooms_catg</th>\n",
       "      <th>bedrooms_catg</th>\n",
       "      <th>beds_catg</th>\n",
       "      <th>amenity_24-hour_check-in</th>\n",
       "      <th>amenity__toilet</th>\n",
       "      <th>amenity_accessible-height_bed</th>\n",
       "      <th>amenity_accessible-height_toilet</th>\n",
       "      <th>amenity_air_conditioning</th>\n",
       "      <th>amenity_air_purifier</th>\n",
       "      <th>amenity_alfresco_bathtub</th>\n",
       "      <th>amenity_amazon_echo</th>\n",
       "      <th>amenity_baby_bath</th>\n",
       "      <th>amenity_baby_monitor</th>\n",
       "      <th>amenity_babysitter_recommendations</th>\n",
       "      <th>amenity_balcony</th>\n",
       "      <th>amenity_bath_towel</th>\n",
       "      <th>amenity_bathroom_essentials</th>\n",
       "      <th>amenity_bathtub</th>\n",
       "      <th>amenity_bathtub_with_bath_chair</th>\n",
       "      <th>amenity_bbq_grill</th>\n",
       "      <th>amenity_beach_essentials</th>\n",
       "      <th>amenity_beach_view</th>\n",
       "      <th>amenity_beachfront</th>\n",
       "      <th>amenity_bed_linens</th>\n",
       "      <th>amenity_bedroom_comforts</th>\n",
       "      <th>...</th>\n",
       "      <th>amenity_roll-in_shower</th>\n",
       "      <th>amenity_room-darkening_shades</th>\n",
       "      <th>amenity_safety_card</th>\n",
       "      <th>amenity_sauna</th>\n",
       "      <th>amenity_self_check-in</th>\n",
       "      <th>amenity_shampoo</th>\n",
       "      <th>amenity_shared_gym</th>\n",
       "      <th>amenity_shared_hot_tub</th>\n",
       "      <th>amenity_shared_pool</th>\n",
       "      <th>amenity_shower_chair</th>\n",
       "      <th>amenity_single_level_home</th>\n",
       "      <th>amenity_ski-in_ski-out</th>\n",
       "      <th>amenity_smart_lock</th>\n",
       "      <th>amenity_smart_tv</th>\n",
       "      <th>amenity_smoke_detector</th>\n",
       "      <th>amenity_smoking_allowed</th>\n",
       "      <th>amenity_soaking_tub</th>\n",
       "      <th>amenity_sound_system</th>\n",
       "      <th>amenity_stair_gates</th>\n",
       "      <th>amenity_stand_alone_steam_shower</th>\n",
       "      <th>amenity_standing_valet</th>\n",
       "      <th>amenity_steam_oven</th>\n",
       "      <th>amenity_stove</th>\n",
       "      <th>amenity_suitable_for_events</th>\n",
       "      <th>amenity_sun_loungers</th>\n",
       "      <th>amenity_table_corner_guards</th>\n",
       "      <th>amenity_tennis_court</th>\n",
       "      <th>amenity_terrace</th>\n",
       "      <th>amenity_toilet_paper</th>\n",
       "      <th>amenity_touchless_faucets</th>\n",
       "      <th>amenity_tv</th>\n",
       "      <th>amenity_walk-in_shower</th>\n",
       "      <th>amenity_warming_drawer</th>\n",
       "      <th>amenity_washer</th>\n",
       "      <th>amenity_washer_dryer</th>\n",
       "      <th>amenity_waterfront</th>\n",
       "      <th>amenity_well-lit_path_to_entrance</th>\n",
       "      <th>amenity_wheelchair_accessible</th>\n",
       "      <th>amenity_wide_clearance_to_shower</th>\n",
       "      <th>amenity_wide_doorway_to_guest_bathroom</th>\n",
       "      <th>amenity_wide_entrance</th>\n",
       "      <th>amenity_wide_entrance_for_guests</th>\n",
       "      <th>amenity_wide_entryway</th>\n",
       "      <th>amenity_wide_hallways</th>\n",
       "      <th>amenity_wifi</th>\n",
       "      <th>amenity_window_guards</th>\n",
       "      <th>amenity_wine_cooler</th>\n",
       "      <th>security_deposit</th>\n",
       "      <th>extra_people</th>\n",
       "      <th>yield</th>\n",
       "    </tr>\n",
       "  </thead>\n",
       "  <tbody>\n",
       "    <tr>\n",
       "      <th>0</th>\n",
       "      <td>13913.jpg</td>\n",
       "      <td>54730</td>\n",
       "      <td>My bright double bedroom with a large window has a relaxed feeling! It comfortably fits one or t...</td>\n",
       "      <td>4.0</td>\n",
       "      <td>f</td>\n",
       "      <td>Islington</td>\n",
       "      <td>51.56802</td>\n",
       "      <td>-0.11121</td>\n",
       "      <td>t</td>\n",
       "      <td>apartment</td>\n",
       "      <td>private_room</td>\n",
       "      <td>2</td>\n",
       "      <td>1.0</td>\n",
       "      <td>1.0</td>\n",
       "      <td>0.0</td>\n",
       "      <td>1</td>\n",
       "      <td>1</td>\n",
       "      <td>f</td>\n",
       "      <td>moderate</td>\n",
       "      <td>1</td>\n",
       "      <td>female</td>\n",
       "      <td>2</td>\n",
       "      <td>1</td>\n",
       "      <td>1</td>\n",
       "      <td>3</td>\n",
       "      <td>1</td>\n",
       "      <td>1</td>\n",
       "      <td>0</td>\n",
       "      <td>0</td>\n",
       "      <td>0</td>\n",
       "      <td>1</td>\n",
       "      <td>1</td>\n",
       "      <td>0</td>\n",
       "      <td>0</td>\n",
       "      <td>0</td>\n",
       "      <td>0</td>\n",
       "      <td>0</td>\n",
       "      <td>0</td>\n",
       "      <td>1</td>\n",
       "      <td>0</td>\n",
       "      <td>0</td>\n",
       "      <td>0</td>\n",
       "      <td>1</td>\n",
       "      <td>1</td>\n",
       "      <td>0</td>\n",
       "      <td>0</td>\n",
       "      <td>0</td>\n",
       "      <td>0</td>\n",
       "      <td>1</td>\n",
       "      <td>0</td>\n",
       "      <td>...</td>\n",
       "      <td>1</td>\n",
       "      <td>1</td>\n",
       "      <td>0</td>\n",
       "      <td>0</td>\n",
       "      <td>0</td>\n",
       "      <td>1</td>\n",
       "      <td>0</td>\n",
       "      <td>0</td>\n",
       "      <td>0</td>\n",
       "      <td>0</td>\n",
       "      <td>0</td>\n",
       "      <td>0</td>\n",
       "      <td>0</td>\n",
       "      <td>0</td>\n",
       "      <td>1</td>\n",
       "      <td>1</td>\n",
       "      <td>0</td>\n",
       "      <td>0</td>\n",
       "      <td>0</td>\n",
       "      <td>0</td>\n",
       "      <td>0</td>\n",
       "      <td>0</td>\n",
       "      <td>1</td>\n",
       "      <td>0</td>\n",
       "      <td>0</td>\n",
       "      <td>0</td>\n",
       "      <td>0</td>\n",
       "      <td>0</td>\n",
       "      <td>0</td>\n",
       "      <td>0</td>\n",
       "      <td>1</td>\n",
       "      <td>0</td>\n",
       "      <td>0</td>\n",
       "      <td>1</td>\n",
       "      <td>0</td>\n",
       "      <td>0</td>\n",
       "      <td>0</td>\n",
       "      <td>0</td>\n",
       "      <td>0</td>\n",
       "      <td>1</td>\n",
       "      <td>1</td>\n",
       "      <td>0</td>\n",
       "      <td>0</td>\n",
       "      <td>0</td>\n",
       "      <td>1</td>\n",
       "      <td>0</td>\n",
       "      <td>0</td>\n",
       "      <td>100.0</td>\n",
       "      <td>15.0</td>\n",
       "      <td>12.0</td>\n",
       "    </tr>\n",
       "  </tbody>\n",
       "</table>\n",
       "<p>1 rows × 223 columns</p>\n",
       "</div>"
      ],
      "text/plain": [
       "          id  host_id  \\\n",
       "0  13913.jpg    54730   \n",
       "\n",
       "                                                                                           description  \\\n",
       "0  My bright double bedroom with a large window has a relaxed feeling! It comfortably fits one or t...   \n",
       "\n",
       "   host_listings_count host_identity_verified neighbourhood_cleansed  \\\n",
       "0                  4.0                      f              Islington   \n",
       "\n",
       "   latitude  longitude is_location_exact property_type     room_type  \\\n",
       "0  51.56802   -0.11121                 t     apartment  private_room   \n",
       "\n",
       "   accommodates  bathrooms  bedrooms  beds  guests_included  minimum_nights  \\\n",
       "0             2        1.0       1.0   0.0                1               1   \n",
       "\n",
       "  instant_bookable cancellation_policy  has_house_rules host_gender  \\\n",
       "0                f            moderate                1      female   \n",
       "\n",
       "   accommodates_catg  guests_included_catg  minimum_nights_catg  \\\n",
       "0                  2                     1                    1   \n",
       "\n",
       "   host_listings_count_catg  bathrooms_catg  bedrooms_catg  beds_catg  \\\n",
       "0                         3               1              1          0   \n",
       "\n",
       "   amenity_24-hour_check-in  amenity__toilet  amenity_accessible-height_bed  \\\n",
       "0                         0                0                              1   \n",
       "\n",
       "   amenity_accessible-height_toilet  amenity_air_conditioning  \\\n",
       "0                                 1                         0   \n",
       "\n",
       "   amenity_air_purifier  amenity_alfresco_bathtub  amenity_amazon_echo  \\\n",
       "0                     0                         0                    0   \n",
       "\n",
       "   amenity_baby_bath  amenity_baby_monitor  \\\n",
       "0                  0                     0   \n",
       "\n",
       "   amenity_babysitter_recommendations  amenity_balcony  amenity_bath_towel  \\\n",
       "0                                   1                0                   0   \n",
       "\n",
       "   amenity_bathroom_essentials  amenity_bathtub  \\\n",
       "0                            0                1   \n",
       "\n",
       "   amenity_bathtub_with_bath_chair  amenity_bbq_grill  \\\n",
       "0                                1                  0   \n",
       "\n",
       "   amenity_beach_essentials  amenity_beach_view  amenity_beachfront  \\\n",
       "0                         0                   0                   0   \n",
       "\n",
       "   amenity_bed_linens  amenity_bedroom_comforts  ...  amenity_roll-in_shower  \\\n",
       "0                   1                         0  ...                       1   \n",
       "\n",
       "   amenity_room-darkening_shades  amenity_safety_card  amenity_sauna  \\\n",
       "0                              1                    0              0   \n",
       "\n",
       "   amenity_self_check-in  amenity_shampoo  amenity_shared_gym  \\\n",
       "0                      0                1                   0   \n",
       "\n",
       "   amenity_shared_hot_tub  amenity_shared_pool  amenity_shower_chair  \\\n",
       "0                       0                    0                     0   \n",
       "\n",
       "   amenity_single_level_home  amenity_ski-in_ski-out  amenity_smart_lock  \\\n",
       "0                          0                       0                   0   \n",
       "\n",
       "   amenity_smart_tv  amenity_smoke_detector  amenity_smoking_allowed  \\\n",
       "0                 0                       1                        1   \n",
       "\n",
       "   amenity_soaking_tub  amenity_sound_system  amenity_stair_gates  \\\n",
       "0                    0                     0                    0   \n",
       "\n",
       "   amenity_stand_alone_steam_shower  amenity_standing_valet  \\\n",
       "0                                 0                       0   \n",
       "\n",
       "   amenity_steam_oven  amenity_stove  amenity_suitable_for_events  \\\n",
       "0                   0              1                            0   \n",
       "\n",
       "   amenity_sun_loungers  amenity_table_corner_guards  amenity_tennis_court  \\\n",
       "0                     0                            0                     0   \n",
       "\n",
       "   amenity_terrace  amenity_toilet_paper  amenity_touchless_faucets  \\\n",
       "0                0                     0                          0   \n",
       "\n",
       "   amenity_tv  amenity_walk-in_shower  amenity_warming_drawer  amenity_washer  \\\n",
       "0           1                       0                       0               1   \n",
       "\n",
       "   amenity_washer_dryer  amenity_waterfront  \\\n",
       "0                     0                   0   \n",
       "\n",
       "   amenity_well-lit_path_to_entrance  amenity_wheelchair_accessible  \\\n",
       "0                                  0                              0   \n",
       "\n",
       "   amenity_wide_clearance_to_shower  amenity_wide_doorway_to_guest_bathroom  \\\n",
       "0                                 0                                       1   \n",
       "\n",
       "   amenity_wide_entrance  amenity_wide_entrance_for_guests  \\\n",
       "0                      1                                 0   \n",
       "\n",
       "   amenity_wide_entryway  amenity_wide_hallways  amenity_wifi  \\\n",
       "0                      0                      0             1   \n",
       "\n",
       "   amenity_window_guards  amenity_wine_cooler  security_deposit  extra_people  \\\n",
       "0                      0                    0             100.0          15.0   \n",
       "\n",
       "   yield  \n",
       "0   12.0  \n",
       "\n",
       "[1 rows x 223 columns]"
      ]
     },
     "execution_count": 13,
     "metadata": {},
     "output_type": "execute_result"
    }
   ],
   "source": [
    "airbnb.head(1)"
   ]
  },
  {
   "cell_type": "markdown",
   "metadata": {},
   "source": [
    "Let's define what will go through the wide and deep components"
   ]
  },
  {
   "cell_type": "code",
   "execution_count": 14,
   "metadata": {},
   "outputs": [],
   "source": [
    "# wide\n",
    "crossed_cols = ([\"property_type\", \"room_type\"],)\n",
    "already_dummies = [c for c in airbnb.columns if \"amenity\" in c] + [\"has_house_rules\"]\n",
    "wide_cols = [\n",
    "    \"is_location_exact\",\n",
    "    \"property_type\",\n",
    "    \"room_type\",\n",
    "    \"host_gender\",\n",
    "    \"instant_bookable\",\n",
    "] + already_dummies\n",
    "\n",
    "# deepdense\n",
    "cat_embed_cols = [(c, 16) for c in airbnb.columns if \"catg\" in c] + [\n",
    "    (\"neighbourhood_cleansed\", 64),\n",
    "    (\"cancellation_policy\", 16),\n",
    "]\n",
    "continuous_cols = [\"latitude\", \"longitude\", \"security_deposit\", \"extra_people\"]\n",
    "already_standard = [\"latitude\", \"longitude\"]\n",
    "\n",
    "# deeptext (at this day and age you might want to use other word vectors...)\n",
    "text_col = \"description\"\n",
    "word_vectors_path = \"data/glove.6B/glove.6B.100d.txt\"\n",
    "\n",
    "# deepimage\n",
    "img_col = \"id\"\n",
    "img_path = \"data/airbnb/property_picture\"\n",
    "\n",
    "# target\n",
    "target_col = \"yield\""
   ]
  },
  {
   "cell_type": "markdown",
   "metadata": {},
   "source": [
    "Note the following: columns that are already dummies (defined as `already_dummies`), are treated as any other wide column. Internally, nothing will really happen to them. They will just add one entry to the embedding lookup table. \n",
    "\n",
    "On the other hand, you will see that among the columns that will be passed through the `deepdense` component we have `already_standard` columns, which are longitude and latitude. These are columns for which it makes no sense to standardize them. However, at the same time, one would not advise to pass inputs to the network that are in a very different scale. Nonetheless, I decided to include a `already_standard` parameter in the `DensePreprocessor` and the columns passed as `already_standard` will not be normalized. "
   ]
  },
  {
   "cell_type": "code",
   "execution_count": 15,
   "metadata": {},
   "outputs": [],
   "source": [
    "import os\n",
    "import torch\n",
    "\n",
    "from pytorch_widedeep.preprocessing import WidePreprocessor, DensePreprocessor, TextPreprocessor, ImagePreprocessor\n",
    "from pytorch_widedeep.models import Wide, DeepDense, DeepText, DeepImage, WideDeep\n",
    "from pytorch_widedeep.initializers import *\n",
    "from pytorch_widedeep.callbacks import *"
   ]
  },
  {
   "cell_type": "code",
   "execution_count": 16,
   "metadata": {},
   "outputs": [
    {
     "name": "stdout",
     "output_type": "stream",
     "text": [
      "The vocabulary contains 2192 tokens\n",
      "Indexing word vectors...\n",
      "Loaded 400000 word vectors\n",
      "Preparing embeddings matrix...\n",
      "2175 words in the vocabulary had data/glove.6B/glove.6B.100d.txt vectors and appear more than 5 times\n",
      "Reading Images from data/airbnb/property_picture\n"
     ]
    },
    {
     "name": "stderr",
     "output_type": "stream",
     "text": [
      "  4%|▍         | 40/1001 [00:00<00:02, 395.94it/s]"
     ]
    },
    {
     "name": "stdout",
     "output_type": "stream",
     "text": [
      "Resizing\n"
     ]
    },
    {
     "name": "stderr",
     "output_type": "stream",
     "text": [
      "100%|██████████| 1001/1001 [00:02<00:00, 392.30it/s]\n"
     ]
    },
    {
     "name": "stdout",
     "output_type": "stream",
     "text": [
      "Computing normalisation metrics\n"
     ]
    }
   ],
   "source": [
    "target = airbnb[target_col].values\n",
    "\n",
    "wide_preprocessor = WidePreprocessor(wide_cols=wide_cols, crossed_cols=crossed_cols)\n",
    "X_wide = wide_preprocessor.fit_transform(airbnb)\n",
    "\n",
    "deep_preprocessor = DensePreprocessor(embed_cols=cat_embed_cols, continuous_cols=continuous_cols,\n",
    "    already_standard=already_standard)\n",
    "X_deep = deep_preprocessor.fit_transform(airbnb)\n",
    "\n",
    "text_preprocessor = TextPreprocessor(word_vectors_path=word_vectors_path, text_col=text_col)\n",
    "X_text = text_preprocessor.fit_transform(airbnb)\n",
    "\n",
    "image_preprocessor = ImagePreprocessor(img_col=img_col, img_path=img_path)\n",
    "X_images = image_preprocessor.fit_transform(airbnb)"
   ]
  },
  {
   "cell_type": "markdown",
   "metadata": {},
   "source": [
    "At this stage the data is ready to be passed through the model. However, instead of building a \"simple\" model that collects the `wide`, `deepdense`, `deeptext` and `deepimage` component, I am going to use this opportunity to illustrate `pytorch-widedepp`'s flexibility to build wide and deep models. I like to call this, getting into *Kaggle mode*.\n",
    "\n",
    "First we define the components of the model..."
   ]
  },
  {
   "cell_type": "code",
   "execution_count": 17,
   "metadata": {},
   "outputs": [],
   "source": [
    "wide = Wide(wide_dim=np.unique(X_wide).shape[0], pred_dim=1)\n",
    "\n",
    "deepdense = DeepDense(hidden_layers=[128,64], dropout=[0.5, 0.5], \n",
    "                      deep_column_idx=deep_preprocessor.deep_column_idx,\n",
    "                      embed_input=deep_preprocessor.embeddings_input,\n",
    "                      continuous_cols=continuous_cols)\n",
    "\n",
    "deeptext = DeepText(vocab_size=len(text_preprocessor.vocab.itos), hidden_dim=64, \n",
    "                    n_layers=2, rnn_dropout=0.5, \n",
    "                    embedding_matrix=text_preprocessor.embedding_matrix)\n",
    "\n",
    "deepimage = DeepImage(pretrained=True, freeze=7, head_layers=[512, 256, 128])"
   ]
  },
  {
   "cell_type": "markdown",
   "metadata": {},
   "source": [
    "...and, as we build the model, add a fully connected *head* via the input parameters (could also be used via the additional component/parameter `deephead`)"
   ]
  },
  {
   "cell_type": "code",
   "execution_count": 18,
   "metadata": {},
   "outputs": [],
   "source": [
    "model = WideDeep(wide=wide, deepdense=deepdense, deeptext=deeptext, deepimage=deepimage, head_layers=[128, 64])"
   ]
  },
  {
   "cell_type": "markdown",
   "metadata": {},
   "source": [
    "Let's have a look to the model"
   ]
  },
  {
   "cell_type": "code",
   "execution_count": 19,
   "metadata": {
    "scrolled": false
   },
   "outputs": [
    {
     "data": {
      "text/plain": [
       "WideDeep(\n",
       "  (wide): Wide(\n",
       "    (wide_linear): Embedding(357, 1, padding_idx=0)\n",
       "  )\n",
       "  (deepdense): DeepDense(\n",
       "    (embed_layers): ModuleDict(\n",
       "      (emb_layer_accommodates_catg): Embedding(4, 16)\n",
       "      (emb_layer_bathrooms_catg): Embedding(4, 16)\n",
       "      (emb_layer_bedrooms_catg): Embedding(5, 16)\n",
       "      (emb_layer_beds_catg): Embedding(5, 16)\n",
       "      (emb_layer_cancellation_policy): Embedding(6, 16)\n",
       "      (emb_layer_guests_included_catg): Embedding(4, 16)\n",
       "      (emb_layer_host_listings_count_catg): Embedding(5, 16)\n",
       "      (emb_layer_minimum_nights_catg): Embedding(4, 16)\n",
       "      (emb_layer_neighbourhood_cleansed): Embedding(33, 64)\n",
       "    )\n",
       "    (embed_dropout): Dropout(p=0.0, inplace=False)\n",
       "    (dense): Sequential(\n",
       "      (dense_layer_0): Sequential(\n",
       "        (0): Linear(in_features=196, out_features=128, bias=True)\n",
       "        (1): LeakyReLU(negative_slope=0.01, inplace=True)\n",
       "        (2): Dropout(p=0.5, inplace=False)\n",
       "      )\n",
       "      (dense_layer_1): Sequential(\n",
       "        (0): Linear(in_features=128, out_features=64, bias=True)\n",
       "        (1): LeakyReLU(negative_slope=0.01, inplace=True)\n",
       "        (2): Dropout(p=0.5, inplace=False)\n",
       "      )\n",
       "    )\n",
       "  )\n",
       "  (deeptext): DeepText(\n",
       "    (word_embed): Embedding(2192, 100, padding_idx=1)\n",
       "    (rnn): LSTM(100, 64, num_layers=2, batch_first=True, dropout=0.5)\n",
       "  )\n",
       "  (deepimage): DeepImage(\n",
       "    (backbone): Sequential(\n",
       "      (0): Conv2d(3, 64, kernel_size=(7, 7), stride=(2, 2), padding=(3, 3), bias=False)\n",
       "      (1): BatchNorm2d(64, eps=1e-05, momentum=0.1, affine=True, track_running_stats=True)\n",
       "      (2): ReLU(inplace=True)\n",
       "      (3): MaxPool2d(kernel_size=3, stride=2, padding=1, dilation=1, ceil_mode=False)\n",
       "      (4): Sequential(\n",
       "        (0): BasicBlock(\n",
       "          (conv1): Conv2d(64, 64, kernel_size=(3, 3), stride=(1, 1), padding=(1, 1), bias=False)\n",
       "          (bn1): BatchNorm2d(64, eps=1e-05, momentum=0.1, affine=True, track_running_stats=True)\n",
       "          (relu): ReLU(inplace=True)\n",
       "          (conv2): Conv2d(64, 64, kernel_size=(3, 3), stride=(1, 1), padding=(1, 1), bias=False)\n",
       "          (bn2): BatchNorm2d(64, eps=1e-05, momentum=0.1, affine=True, track_running_stats=True)\n",
       "        )\n",
       "        (1): BasicBlock(\n",
       "          (conv1): Conv2d(64, 64, kernel_size=(3, 3), stride=(1, 1), padding=(1, 1), bias=False)\n",
       "          (bn1): BatchNorm2d(64, eps=1e-05, momentum=0.1, affine=True, track_running_stats=True)\n",
       "          (relu): ReLU(inplace=True)\n",
       "          (conv2): Conv2d(64, 64, kernel_size=(3, 3), stride=(1, 1), padding=(1, 1), bias=False)\n",
       "          (bn2): BatchNorm2d(64, eps=1e-05, momentum=0.1, affine=True, track_running_stats=True)\n",
       "        )\n",
       "      )\n",
       "      (5): Sequential(\n",
       "        (0): BasicBlock(\n",
       "          (conv1): Conv2d(64, 128, kernel_size=(3, 3), stride=(2, 2), padding=(1, 1), bias=False)\n",
       "          (bn1): BatchNorm2d(128, eps=1e-05, momentum=0.1, affine=True, track_running_stats=True)\n",
       "          (relu): ReLU(inplace=True)\n",
       "          (conv2): Conv2d(128, 128, kernel_size=(3, 3), stride=(1, 1), padding=(1, 1), bias=False)\n",
       "          (bn2): BatchNorm2d(128, eps=1e-05, momentum=0.1, affine=True, track_running_stats=True)\n",
       "          (downsample): Sequential(\n",
       "            (0): Conv2d(64, 128, kernel_size=(1, 1), stride=(2, 2), bias=False)\n",
       "            (1): BatchNorm2d(128, eps=1e-05, momentum=0.1, affine=True, track_running_stats=True)\n",
       "          )\n",
       "        )\n",
       "        (1): BasicBlock(\n",
       "          (conv1): Conv2d(128, 128, kernel_size=(3, 3), stride=(1, 1), padding=(1, 1), bias=False)\n",
       "          (bn1): BatchNorm2d(128, eps=1e-05, momentum=0.1, affine=True, track_running_stats=True)\n",
       "          (relu): ReLU(inplace=True)\n",
       "          (conv2): Conv2d(128, 128, kernel_size=(3, 3), stride=(1, 1), padding=(1, 1), bias=False)\n",
       "          (bn2): BatchNorm2d(128, eps=1e-05, momentum=0.1, affine=True, track_running_stats=True)\n",
       "        )\n",
       "      )\n",
       "      (6): Sequential(\n",
       "        (0): BasicBlock(\n",
       "          (conv1): Conv2d(128, 256, kernel_size=(3, 3), stride=(2, 2), padding=(1, 1), bias=False)\n",
       "          (bn1): BatchNorm2d(256, eps=1e-05, momentum=0.1, affine=True, track_running_stats=True)\n",
       "          (relu): ReLU(inplace=True)\n",
       "          (conv2): Conv2d(256, 256, kernel_size=(3, 3), stride=(1, 1), padding=(1, 1), bias=False)\n",
       "          (bn2): BatchNorm2d(256, eps=1e-05, momentum=0.1, affine=True, track_running_stats=True)\n",
       "          (downsample): Sequential(\n",
       "            (0): Conv2d(128, 256, kernel_size=(1, 1), stride=(2, 2), bias=False)\n",
       "            (1): BatchNorm2d(256, eps=1e-05, momentum=0.1, affine=True, track_running_stats=True)\n",
       "          )\n",
       "        )\n",
       "        (1): BasicBlock(\n",
       "          (conv1): Conv2d(256, 256, kernel_size=(3, 3), stride=(1, 1), padding=(1, 1), bias=False)\n",
       "          (bn1): BatchNorm2d(256, eps=1e-05, momentum=0.1, affine=True, track_running_stats=True)\n",
       "          (relu): ReLU(inplace=True)\n",
       "          (conv2): Conv2d(256, 256, kernel_size=(3, 3), stride=(1, 1), padding=(1, 1), bias=False)\n",
       "          (bn2): BatchNorm2d(256, eps=1e-05, momentum=0.1, affine=True, track_running_stats=True)\n",
       "        )\n",
       "      )\n",
       "      (7): Sequential(\n",
       "        (0): BasicBlock(\n",
       "          (conv1): Conv2d(256, 512, kernel_size=(3, 3), stride=(2, 2), padding=(1, 1), bias=False)\n",
       "          (bn1): BatchNorm2d(512, eps=1e-05, momentum=0.1, affine=True, track_running_stats=True)\n",
       "          (relu): ReLU(inplace=True)\n",
       "          (conv2): Conv2d(512, 512, kernel_size=(3, 3), stride=(1, 1), padding=(1, 1), bias=False)\n",
       "          (bn2): BatchNorm2d(512, eps=1e-05, momentum=0.1, affine=True, track_running_stats=True)\n",
       "          (downsample): Sequential(\n",
       "            (0): Conv2d(256, 512, kernel_size=(1, 1), stride=(2, 2), bias=False)\n",
       "            (1): BatchNorm2d(512, eps=1e-05, momentum=0.1, affine=True, track_running_stats=True)\n",
       "          )\n",
       "        )\n",
       "        (1): BasicBlock(\n",
       "          (conv1): Conv2d(512, 512, kernel_size=(3, 3), stride=(1, 1), padding=(1, 1), bias=False)\n",
       "          (bn1): BatchNorm2d(512, eps=1e-05, momentum=0.1, affine=True, track_running_stats=True)\n",
       "          (relu): ReLU(inplace=True)\n",
       "          (conv2): Conv2d(512, 512, kernel_size=(3, 3), stride=(1, 1), padding=(1, 1), bias=False)\n",
       "          (bn2): BatchNorm2d(512, eps=1e-05, momentum=0.1, affine=True, track_running_stats=True)\n",
       "        )\n",
       "      )\n",
       "      (8): AdaptiveAvgPool2d(output_size=(1, 1))\n",
       "    )\n",
       "    (imagehead): Sequential(\n",
       "      (dense_layer_0): Sequential(\n",
       "        (0): Linear(in_features=512, out_features=256, bias=True)\n",
       "        (1): LeakyReLU(negative_slope=0.01, inplace=True)\n",
       "        (2): Dropout(p=0.0, inplace=False)\n",
       "      )\n",
       "      (dense_layer_1): Sequential(\n",
       "        (0): Linear(in_features=256, out_features=128, bias=True)\n",
       "        (1): LeakyReLU(negative_slope=0.01, inplace=True)\n",
       "        (2): Dropout(p=0.0, inplace=False)\n",
       "      )\n",
       "    )\n",
       "  )\n",
       "  (deephead): Sequential(\n",
       "    (head_layer_0): Sequential(\n",
       "      (0): Linear(in_features=256, out_features=128, bias=True)\n",
       "      (1): LeakyReLU(negative_slope=0.01, inplace=True)\n",
       "      (2): Dropout(p=0.0, inplace=False)\n",
       "    )\n",
       "    (head_layer_1): Sequential(\n",
       "      (0): Linear(in_features=128, out_features=64, bias=True)\n",
       "      (1): LeakyReLU(negative_slope=0.01, inplace=True)\n",
       "      (2): Dropout(p=0.0, inplace=False)\n",
       "    )\n",
       "    (head_out): Linear(in_features=64, out_features=1, bias=True)\n",
       "  )\n",
       ")"
      ]
     },
     "execution_count": 19,
     "metadata": {},
     "output_type": "execute_result"
    }
   ],
   "source": [
    "model"
   ]
  },
  {
   "cell_type": "markdown",
   "metadata": {},
   "source": [
    "This is a big model, so let me go component by component. \n",
    "\n",
    "1. `wide`: simple linear model implemented via an `Embedding` layer\n",
    "\n",
    "2. `deepdense`: embeddings concatenated to categorical columns that are then passed through two dense layers with the following sizes [196 $\\rightarrow$ 128 $\\rightarrow$ 64]. \n",
    "\n",
    "3. `deeptext`: two stacked LTSMs that will received the pre-trained glove wordvectors and output a last hidden state of dim 64 (this would be 128 if we had used `bidirectional = True`)\n",
    "\n",
    "4. `deepimage`: a pre-trained ResNet 18 model where only the last `Sequential` block (7) will be trained. The rest will remain \"frozen\". on top of it we have `imagehead` which is just a `Sequential` model comprised of two dense layers with the following sizes [512 $\\rightarrow$ 256 $\\rightarrow$ 128]\n",
    "\n",
    "5. `deephead`: on top of the 3 deep components we have a final component referred as `deephead` (this would correspond to the `architecture 2` described in the first post). This component will receive the concatenated output from all the deep components, and pass it through a further collection of dense layers. In this case the sizes are [256 $\\rightarrow$ 64 $\\rightarrow$ 1]. We input 256 because the output dim from `deepdense` is 64, the  output dim from `deeptext` is 64 and the output dim from `deeptext` is 128. The final `deephead` output dim is 1 because we are performing a regression, i.e. one output neuron with no activation function. \n",
    "\n",
    "Let's go even a step further and use different optimizers, initializers and schedulers for different components. Moreover, let's use a different learning rate for different parameter groups in the case of the `deepdense`, remember, this is *Kaggle mode*."
   ]
  },
  {
   "cell_type": "code",
   "execution_count": 20,
   "metadata": {},
   "outputs": [],
   "source": [
    "# Optimizers. Different parameter groups for the deepdense component will use different lr\n",
    "deep_params = []\n",
    "for childname, child in model.named_children():\n",
    "    if childname == 'deepdense':\n",
    "        for n,p in child.named_parameters():\n",
    "            if \"emb_layer\" in n: deep_params.append({'params': p, 'lr': 0.01})\n",
    "            else: deep_params.append({'params': p, 'lr': 0.03})\n",
    "                \n",
    "wide_opt = torch.optim.Adam(model.wide.parameters(), lr=0.03)\n",
    "deep_opt = torch.optim.Adam(deep_params)\n",
    "text_opt = RAdam(model.deeptext.parameters())\n",
    "img_opt  = RAdam(model.deepimage.parameters())\n",
    "head_opt = torch.optim.AdamW(model.deephead.parameters())\n",
    "optimizers = {'wide': wide_opt, 'deepdense':deep_opt, 'deeptext':text_opt, 'deepimage': img_opt, 'deephead': head_opt}\n",
    "\n",
    "# schedulers\n",
    "wide_sch = torch.optim.lr_scheduler.StepLR(wide_opt, step_size=5)\n",
    "deep_sch = torch.optim.lr_scheduler.MultiStepLR(deep_opt, milestones=[3,8])\n",
    "text_sch = torch.optim.lr_scheduler.StepLR(text_opt, step_size=5)\n",
    "img_sch  = torch.optim.lr_scheduler.MultiStepLR(deep_opt, milestones=[3,8])\n",
    "head_sch = torch.optim.lr_scheduler.StepLR(head_opt, step_size=5)\n",
    "schedulers = {'wide': wide_sch, 'deepdense':deep_sch, 'deeptext':text_sch, 'deepimage': img_sch, 'deephead': head_sch}\n",
    "\n",
    "# initializers\n",
    "initializers = {'wide': KaimingNormal, 'deepdense':KaimingNormal, \n",
    "                'deeptext':KaimingNormal(pattern=r\"^(?!.*word_embed).*$\"), # do not initialize the pre-trained word-vectors!\n",
    "                'deepimage':KaimingNormal}\n",
    "\n",
    "# transforms and callbacks\n",
    "mean = [0.406, 0.456, 0.485]  #BGR\n",
    "std =  [0.225, 0.224, 0.229]  #BGR\n",
    "transforms = [ToTensor, Normalize(mean=mean, std=std)]\n",
    "callbacks = [LRHistory(n_epochs=10), EarlyStopping, ModelCheckpoint(filepath='model_weights/wd_out')]                "
   ]
  },
  {
   "cell_type": "markdown",
   "metadata": {},
   "source": [
    "Note that, since we will use pre-trained word embeddings, we do not want to initialize these embeddings. However you might still want to initialize the other layers in the `deeptext` component. This is not a problem, you can do that with the parameter `pattern` and your knowledge on regular  expressions. In the `deeptext` initializer definition above:\n",
    "\n",
    "```python\n",
    "KaimingNormal(pattern=r\"^(?!.*word_embed).*$\")\n",
    "```\n",
    "\n",
    "I am NOT initializing parameters whose name contains the string `word_embed`. \n",
    "\n",
    "So...let's compile and run, which is as easy as:"
   ]
  },
  {
   "cell_type": "code",
   "execution_count": 21,
   "metadata": {},
   "outputs": [
    {
     "name": "stderr",
     "output_type": "stream",
     "text": [
      "\r",
      "  0%|          | 0/25 [00:00<?, ?it/s]"
     ]
    },
    {
     "name": "stdout",
     "output_type": "stream",
     "text": [
      "Training\n"
     ]
    },
    {
     "name": "stderr",
     "output_type": "stream",
     "text": [
      "epoch 1: 100%|██████████| 25/25 [01:37<00:00,  3.91s/it, loss=1.23e+4]\n",
      "valid: 100%|██████████| 7/7 [00:15<00:00,  2.26s/it, loss=1.24e+4]\n"
     ]
    }
   ],
   "source": [
    "model.compile(method='regression', initializers=initializers, optimizers=optimizers,\n",
    "    lr_schedulers=schedulers, callbacks=callbacks, transforms=transforms)\n",
    "\n",
    "model.fit(X_wide=X_wide, X_deep=X_deep, X_text=X_text, X_img=X_images,\n",
    "    target=target, n_epochs=1, batch_size=32, val_split=0.2)"
   ]
  },
  {
   "cell_type": "markdown",
   "metadata": {},
   "source": [
    "As I mentioned early in the post, please, do not focus on the success metric/loss (`mse` in this case). I am just using a very small sample of the dataset and some \"random\" set up. I just want to illustrate usability. A benchmark post will come in the \"no-so-distant future\"."
   ]
  },
  {
   "cell_type": "markdown",
   "metadata": {},
   "source": [
    "## 3. Warm up routines\n",
    "\n",
    "When running `.fit`, we can choose to first \"warm up\" each model individually (similarly to fine-tunning if the model was pre-trained, but this is a general functionality, i.e. there is no need of a pre-trained model) before the joined training begins.\n",
    "\n",
    "`pytorch-widedeep` implements 3 different warming up routines:\n",
    "\n",
    "1. Warm up all trainable layers at once with a triangular one-cycle learning rate (referred as slanted triangular learning rates in [Howard & Ruder 2018](https://arxiv.org/abs/1801.06146) [1]). See [here](https://github.com/jrzaurin/pytorch-widedeep/blob/master/examples/06_WarmUp_Model_Components.ipynb) for an example on this routine for a simpler `wide` + `deepdense` model. \n",
    "\n",
    "2. Gradual warm up *inspired* by the work of [Felbo et al., 2017](https://arxiv.org/abs/1708.00524) [2] for fine-tunning\n",
    "\n",
    "3. Gradual warm up *inspired* by the work of [Howard & Ruder 2018](https://arxiv.org/abs/1801.06146) for fine-tunning\n",
    "\n",
    "Currently warming up is only supported without a fully connected `deephead`, i.e. if `deephead=None`. In addition, Felbo and Howard routines only applied to the `deeptext` and `deepimage` components. The `wide` and `deepdense` components can also be warmed up, but together, following the first of the 3 routines described before.\n",
    "\n",
    "Let me briefly describe the \"Felbo\" and \"Howard\" routines before showing how to use them.\n",
    "\n",
    "### 3.1 The Felbo warm-up routine\n",
    "\n",
    "The Felbo warm-up routine can be illustrated by the following figure:\n",
    "\n",
    "<img src=\"figures/pytorch-widedeep/felbo_routine.png\" alt=\"resnet_block\" width=\"500\"/>\n",
    "\n",
    "**Figure 1**. The process in the figure can be described as follows: warm up (or train) the last layer for one epoch using a one cycle triangular learning rate. Then warm up the next deeper layer for one epoch, with a learning rate that is a factor of 2.5 lower than the previous learning rate (the 2.5 factor is fixed) while freezing the already warmed up layer(s). Repeat untill all individual layers are warmed. Then warm one last epoch with all warmed layers trainable. The vanishing color gradient in the figure attempts to illustrate the decreasing learning rate.\n",
    "\n",
    "Note that this is not identical to the Fine-Tunning routine described in Felbo et al, 2017, this is why I used the word '*inspired*' before.\n",
    "\n",
    "### 3.1 The Howard warm-up routine\n",
    "\n",
    "The Howard routine can be illustrated by the following figure:\n",
    "\n",
    "<img src=\"figures/pytorch-widedeep/howard_routine.png\" alt=\"resnet_block\" width=\"500\"/>\n",
    "\n",
    "**Figure 2**. The process in the figure can be described as follows: warm up (or train) the last layer for one epoch using a one cycle triangular learning rate. Then warm up the next deeper layer for one epoch, with a learning rate that is a factor of 2.5 lower than the previous learning rate (the 2.5 factor is fixed) while keeping the already warmed up layer(s) trainable. Repeat. The vanishing color gradient in the figure attempts to illustrate the decreasing learning rate.\n",
    "\n",
    "Note that I write \"*warm up (or train) the last layer for one epoch [...]*\". However, in practice the user will have to specify the order of the layers to be warmed up. This is another reason why I wrote that the warm up routines I have implemented are inspired by the work of Felbo and Howard and not identical to their implemenations.\n",
    "\n",
    "The felbo and howard routines can be accessed with via the [warm up parameters](https://pytorch-widedeep.readthedocs.io/en/latest/wide_deep.html#pytorch_widedeep.models.wide_deep.WideDeep.fit). Let's have a look:"
   ]
  },
  {
   "cell_type": "code",
   "execution_count": 23,
   "metadata": {},
   "outputs": [],
   "source": [
    "wide = Wide(wide_dim=np.unique(X_wide).shape[0], pred_dim=1)\n",
    "deepdense = DeepDense( hidden_layers=[64,32], dropout=[0.2,0.2],\n",
    "                      deep_column_idx=deep_preprocessor.deep_column_idx,\n",
    "                      embed_input=deep_preprocessor.embeddings_input,\n",
    "                      continuous_cols=continuous_cols)\n",
    "deeptext = DeepText(vocab_size=len(text_preprocessor.vocab.itos),\n",
    "                    hidden_dim=64, n_layers=3, rnn_dropout=0.5,\n",
    "                    embedding_matrix=text_preprocessor.embedding_matrix)\n",
    "deepimage = DeepImage(pretrained=True, head_layers=None)\n",
    "model = WideDeep(wide=wide, deepdense=deepdense, deeptext=deeptext, deepimage=deepimage)\n",
    "model.compile(method='regression')"
   ]
  },
  {
   "cell_type": "markdown",
   "metadata": {},
   "source": [
    "This is a similar model to the one before but without the final `deephead`. There, we saw that the `deepimage` component, identical to the one discussed here, is comprised by a Sequential model that is a ResNet backbone and a Linear Layer. \n",
    "\n",
    "In this example, I warm up the layers in the ResNet backbone, apart from the first sequence `[Conv2d -> BatchNorm2d -> ReLU -> MaxPool2d]`, and the Linear layer. \n",
    "\n",
    "This is done as follows:"
   ]
  },
  {
   "cell_type": "code",
   "execution_count": 24,
   "metadata": {},
   "outputs": [],
   "source": [
    "first_child = list(model.deepimage.children())[0]\n",
    "img_layers = list(first_child.backbone.children())[4:8] + [list(model.deepimage.children())[1]]"
   ]
  },
  {
   "cell_type": "code",
   "execution_count": 25,
   "metadata": {},
   "outputs": [],
   "source": [
    "warm_img_layers = img_layers[::-1]"
   ]
  },
  {
   "cell_type": "code",
   "execution_count": 26,
   "metadata": {},
   "outputs": [
    {
     "name": "stderr",
     "output_type": "stream",
     "text": [
      "\r",
      "  0%|          | 0/25 [00:00<?, ?it/s]"
     ]
    },
    {
     "name": "stdout",
     "output_type": "stream",
     "text": [
      "Warming up wide for 1 epochs\n"
     ]
    },
    {
     "name": "stderr",
     "output_type": "stream",
     "text": [
      "epoch 1: 100%|██████████| 25/25 [00:00<00:00, 28.55it/s, loss=1.59e+4]\n",
      "  0%|          | 0/25 [00:00<?, ?it/s]"
     ]
    },
    {
     "name": "stdout",
     "output_type": "stream",
     "text": [
      "Warming up deepdense for 1 epochs\n"
     ]
    },
    {
     "name": "stderr",
     "output_type": "stream",
     "text": [
      "epoch 1: 100%|██████████| 25/25 [00:00<00:00, 44.05it/s, loss=1.25e+4]\n",
      "  0%|          | 0/25 [00:00<?, ?it/s]"
     ]
    },
    {
     "name": "stdout",
     "output_type": "stream",
     "text": [
      "Warming up deeptext for 1 epochs\n"
     ]
    },
    {
     "name": "stderr",
     "output_type": "stream",
     "text": [
      "epoch 1: 100%|██████████| 25/25 [00:03<00:00,  7.85it/s, loss=1.68e+4]\n",
      "  0%|          | 0/25 [00:00<?, ?it/s]"
     ]
    },
    {
     "name": "stdout",
     "output_type": "stream",
     "text": [
      "Warming up deepimage, layer 1 of 5\n"
     ]
    },
    {
     "name": "stderr",
     "output_type": "stream",
     "text": [
      "epoch 1: 100%|██████████| 25/25 [01:12<00:00,  2.88s/it, loss=1.34e+4]\n",
      "  0%|          | 0/25 [00:00<?, ?it/s]"
     ]
    },
    {
     "name": "stdout",
     "output_type": "stream",
     "text": [
      "Warming up deepimage, layer 2 of 5\n"
     ]
    },
    {
     "name": "stderr",
     "output_type": "stream",
     "text": [
      "epoch 1: 100%|██████████| 25/25 [01:39<00:00,  3.99s/it, loss=1.1e+4] \n",
      "  0%|          | 0/25 [00:00<?, ?it/s]"
     ]
    },
    {
     "name": "stdout",
     "output_type": "stream",
     "text": [
      "Warming up deepimage, layer 3 of 5\n"
     ]
    },
    {
     "name": "stderr",
     "output_type": "stream",
     "text": [
      "epoch 1: 100%|██████████| 25/25 [01:59<00:00,  4.78s/it, loss=1.08e+4]\n",
      "  0%|          | 0/25 [00:00<?, ?it/s]"
     ]
    },
    {
     "name": "stdout",
     "output_type": "stream",
     "text": [
      "Warming up deepimage, layer 4 of 5\n"
     ]
    },
    {
     "name": "stderr",
     "output_type": "stream",
     "text": [
      "epoch 1: 100%|██████████| 25/25 [02:25<00:00,  5.81s/it, loss=1.05e+4]\n",
      "  0%|          | 0/25 [00:00<?, ?it/s]"
     ]
    },
    {
     "name": "stdout",
     "output_type": "stream",
     "text": [
      "Warming up deepimage, layer 5 of 5\n"
     ]
    },
    {
     "name": "stderr",
     "output_type": "stream",
     "text": [
      "epoch 1: 100%|██████████| 25/25 [03:08<00:00,  7.53s/it, loss=1.08e+4]\n",
      "  0%|          | 0/25 [00:00<?, ?it/s]"
     ]
    },
    {
     "name": "stdout",
     "output_type": "stream",
     "text": [
      "Training\n"
     ]
    },
    {
     "name": "stderr",
     "output_type": "stream",
     "text": [
      "epoch 1: 100%|██████████| 25/25 [02:12<00:00,  5.32s/it, loss=1.61e+4]\n",
      "valid: 100%|██████████| 7/7 [00:16<00:00,  2.43s/it, loss=1.4e+4] \n"
     ]
    }
   ],
   "source": [
    "model.fit(\n",
    "    X_wide=X_wide, \n",
    "    X_deep=X_deep, \n",
    "    X_text=X_text, \n",
    "    X_img=X_images, \n",
    "    target=target, \n",
    "    n_epochs=1, \n",
    "    batch_size=32, \n",
    "    val_split=0.2, \n",
    "    warm_up=True, \n",
    "    warm_epochs=1, \n",
    "    warm_deepimage_gradual=True, \n",
    "    warm_deepimage_layers=warm_img_layers, \n",
    "    warm_deepimage_max_lr=0.01, \n",
    "    warm_routine='howard'\n",
    ")"
   ]
  },
  {
   "cell_type": "markdown",
   "metadata": {},
   "source": [
    "## 4. Custom model\n",
    "\n",
    "So far we have used the components that come with `pytorch-widedee`. However, as I mentioned in the first post, it is very likely that the user wants to use custom models for the `deeptext` and `deepimage` components. This is easily attainable by...well...simply passing your own model. \n",
    "\n",
    "You should just remember that the model must return the last layer of activations (and NOT the predictions) and must contained an attribute called `output_dim` with the output dimension of  that last layer. \n",
    "\n",
    "For example, let's say we want to use as `deeptext` a **very** simple stack of 2 bidirectional GRUs."
   ]
  },
  {
   "cell_type": "code",
   "execution_count": 27,
   "metadata": {},
   "outputs": [],
   "source": [
    "from torch import nn\n",
    "\n",
    "\n",
    "class MyDeepText(nn.Module):\n",
    "    def __init__(self, vocab_size, padding_idx=1, embed_dim=100, hidden_dim=64):\n",
    "        super(MyDeepText, self).__init__()\n",
    "\n",
    "        # word/token embeddings\n",
    "        self.word_embed = nn.Embedding(\n",
    "            vocab_size, embed_dim, padding_idx=padding_idx\n",
    "        )\n",
    "\n",
    "        # stack of RNNs\n",
    "        self.rnn = nn.GRU(\n",
    "            embed_dim,\n",
    "            hidden_dim,\n",
    "            num_layers=2,\n",
    "            bidirectional=True,\n",
    "            batch_first=True,\n",
    "        )\n",
    "\n",
    "        # Remember, this must be defined. If not WideDeep will through an error\n",
    "        self.output_dim = hidden_dim * 2\n",
    "\n",
    "    def forward(self, X):\n",
    "        embed = self.word_embed(X.long())\n",
    "        o, h = self.rnn(embed)\n",
    "        return torch.cat((h[-2], h[-1]), dim=1)"
   ]
  },
  {
   "cell_type": "markdown",
   "metadata": {},
   "source": [
    "And from here, \"*proceed as usual*\""
   ]
  },
  {
   "cell_type": "code",
   "execution_count": 28,
   "metadata": {},
   "outputs": [],
   "source": [
    "wide = Wide(wide_dim=np.unique(X_wide).shape[0], pred_dim=1)\n",
    "deepdense = DeepDense( hidden_layers=[64,32], dropout=[0.2,0.2],\n",
    "                      deep_column_idx=deep_preprocessor.deep_column_idx,\n",
    "                      embed_input=deep_preprocessor.embeddings_input,\n",
    "                      continuous_cols=continuous_cols)\n",
    "mydeeptext = MyDeepText(vocab_size=len(text_preprocessor.vocab.itos))\n",
    "model = WideDeep(wide=wide, deepdense=deepdense, deeptext=mydeeptext)\n",
    "model.compile(method='regression')"
   ]
  },
  {
   "cell_type": "code",
   "execution_count": 29,
   "metadata": {},
   "outputs": [
    {
     "data": {
      "text/plain": [
       "WideDeep(\n",
       "  (wide): Wide(\n",
       "    (wide_linear): Embedding(357, 1, padding_idx=0)\n",
       "  )\n",
       "  (deepdense): Sequential(\n",
       "    (0): DeepDense(\n",
       "      (embed_layers): ModuleDict(\n",
       "        (emb_layer_accommodates_catg): Embedding(4, 16)\n",
       "        (emb_layer_bathrooms_catg): Embedding(4, 16)\n",
       "        (emb_layer_bedrooms_catg): Embedding(5, 16)\n",
       "        (emb_layer_beds_catg): Embedding(5, 16)\n",
       "        (emb_layer_cancellation_policy): Embedding(6, 16)\n",
       "        (emb_layer_guests_included_catg): Embedding(4, 16)\n",
       "        (emb_layer_host_listings_count_catg): Embedding(5, 16)\n",
       "        (emb_layer_minimum_nights_catg): Embedding(4, 16)\n",
       "        (emb_layer_neighbourhood_cleansed): Embedding(33, 64)\n",
       "      )\n",
       "      (embed_dropout): Dropout(p=0.0, inplace=False)\n",
       "      (dense): Sequential(\n",
       "        (dense_layer_0): Sequential(\n",
       "          (0): Linear(in_features=196, out_features=64, bias=True)\n",
       "          (1): LeakyReLU(negative_slope=0.01, inplace=True)\n",
       "          (2): Dropout(p=0.2, inplace=False)\n",
       "        )\n",
       "        (dense_layer_1): Sequential(\n",
       "          (0): Linear(in_features=64, out_features=32, bias=True)\n",
       "          (1): LeakyReLU(negative_slope=0.01, inplace=True)\n",
       "          (2): Dropout(p=0.2, inplace=False)\n",
       "        )\n",
       "      )\n",
       "    )\n",
       "    (1): Linear(in_features=32, out_features=1, bias=True)\n",
       "  )\n",
       "  (deeptext): Sequential(\n",
       "    (0): MyDeepText(\n",
       "      (word_embed): Embedding(2192, 100, padding_idx=1)\n",
       "      (rnn): GRU(100, 64, num_layers=2, batch_first=True, bidirectional=True)\n",
       "    )\n",
       "    (1): Linear(in_features=128, out_features=1, bias=True)\n",
       "  )\n",
       ")"
      ]
     },
     "execution_count": 29,
     "metadata": {},
     "output_type": "execute_result"
    }
   ],
   "source": [
    "model"
   ]
  },
  {
   "cell_type": "code",
   "execution_count": 30,
   "metadata": {},
   "outputs": [
    {
     "name": "stderr",
     "output_type": "stream",
     "text": [
      "\r",
      "  0%|          | 0/25 [00:00<?, ?it/s]"
     ]
    },
    {
     "name": "stdout",
     "output_type": "stream",
     "text": [
      "Training\n"
     ]
    },
    {
     "name": "stderr",
     "output_type": "stream",
     "text": [
      "epoch 1: 100%|██████████| 25/25 [00:04<00:00,  6.16it/s, loss=1.74e+4]\n",
      "valid: 100%|██████████| 7/7 [00:00<00:00, 21.47it/s, loss=9.35e+3]\n"
     ]
    }
   ],
   "source": [
    "model.fit(X_wide=X_wide, X_deep=X_deep, X_text=X_text, target=target, n_epochs=1, batch_size=32, val_split=0.2)"
   ]
  },
  {
   "cell_type": "markdown",
   "metadata": {},
   "source": [
    "## 5. Conclusion\n",
    "\n",
    "In this second post I tried to illustrate in detail the different functionalities of the `pytorch-widedeep` package, and how these can be used to customize each of the four potential components of the `WideDeep` model that can be built with `pytorch-widedeep`. I have also describe the warm-up routines that can be used to \"warm-up\" each individual component before the joined training and finally, how custom models, \"external\" to `pytorch-widedeep` can be used in combination with the package. \n",
    "\n",
    "However, this is not the end of the journey. As you will have seen, there is an \"*imbalance in the `pytorch-widedeep` force*\", in the sense that while fully pre-trained models are incorporated for the `deepimage` component, this is not the case for the `deeptext` component, where only pre-trained word embeddings are considered. Of course, as illusttrated in Section 4, you could build your own pre-trained `deeptext` component and pass it to the `WideDeep` constructor class, but eventually, I want to allow that option within the package. \n",
    "\n",
    "This means that eventually I will need to integrate the library with some of the pre-trained Language models available or simply code a custom version for `pytorch-widedeep`.\n",
    "\n",
    "One the other hand, if there is one Deep Learning for Tabular data implementation that is becoming more and more popular is [TabNet](). There is already a fantastic [`Pytorch` implementation](https://github.com/dreamquark-ai/tabnet) which I highly recommend. I believe I could adapt that implementation to `pytorch-widedeep` and offer it as a deep component or on its own, like any other model component. \n",
    "\n",
    "I am pretty sure I will think of a few more things along the way. \n",
    "\n",
    "If you made it this far, thanks for reading! And if you use the package, let me know your thoughts!\n",
    "\n",
    "#### References\n",
    "\n",
    "[1] Universal Language Model Fine-tuning for Text Classification. Jeremy Howard, Sebastian Ruder, 2018 [arXiv:1801.06146v5](https://arxiv.org/abs/1801.06146)\n",
    "\n",
    "[2] Using millions of emoji occurrences to learn any-domain representations for detecting sentiment, emotion and sarcasm. Bjarke Felbo, Alan Mislove, Anders Søgaard, et al., 2017. [arXiv:1708.00524](https://arxiv.org/abs/1708.00524)"
   ]
  }
 ],
 "metadata": {
  "kernelspec": {
   "display_name": "Python 3",
   "language": "python",
   "name": "python3"
  },
  "language_info": {
   "codemirror_mode": {
    "name": "ipython",
    "version": 3
   },
   "file_extension": ".py",
   "mimetype": "text/x-python",
   "name": "python",
   "nbconvert_exporter": "python",
   "pygments_lexer": "ipython3",
   "version": "3.7.9"
  }
 },
 "nbformat": 4,
 "nbformat_minor": 2
}
